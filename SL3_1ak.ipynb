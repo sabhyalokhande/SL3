{
  "nbformat": 4,
  "nbformat_minor": 0,
  "metadata": {
    "colab": {
      "provenance": []
    },
    "kernelspec": {
      "name": "python3",
      "display_name": "Python 3"
    },
    "language_info": {
      "name": "python"
    }
  },
  "cells": [
    {
      "cell_type": "code",
      "execution_count": 1,
      "metadata": {
        "id": "0UUHVSHCbAsB"
      },
      "outputs": [],
      "source": [
        "import pandas as pd\n",
        "import numpy as np\n",
        "import seaborn as sns\n",
        "import matplotlib.pyplot as plt\n",
        "from sklearn.preprocessing import MinMaxScaler"
      ]
    },
    {
      "cell_type": "code",
      "source": [
        "df = pd.read_csv(\"/content/data.csv\")  # Replace with your path if needed\n",
        "print(\"First 5 rows:\\n\", df.head())\n",
        "print(\"\\nShape of data:\", df.shape)\n"
      ],
      "metadata": {
        "colab": {
          "base_uri": "https://localhost:8080/"
        },
        "id": "nUS3ddtAbJfs",
        "outputId": "1425eebb-05d5-4e86-8ddc-6de3776b8820"
      },
      "execution_count": 10,
      "outputs": [
        {
          "output_type": "stream",
          "name": "stdout",
          "text": [
            "First 5 rows:\n",
            "    ID  Age   Salary Department  Experience_Years Remote_Work\n",
            "0   1   56  38392.0         IT               1.0         Yes\n",
            "1   2   46  60535.0         IT               5.0          No\n",
            "2   3   32  82256.0    Finance              12.0         Yes\n",
            "3   4   25  65222.0    Finance              13.0         Yes\n",
            "4   5   38  93335.0  Marketing               3.0          No\n",
            "\n",
            "Shape of data: (100, 6)\n"
          ]
        }
      ]
    },
    {
      "cell_type": "code",
      "source": [
        "# 3. Check for NULL values\n",
        "print(\"\\nNull values in each column:\")\n",
        "print(df.isnull().sum())"
      ],
      "metadata": {
        "colab": {
          "base_uri": "https://localhost:8080/"
        },
        "id": "xFG_fNUHbMjl",
        "outputId": "be7f802f-9849-4b20-f7ca-0d3ba503ab16"
      },
      "execution_count": 11,
      "outputs": [
        {
          "output_type": "stream",
          "name": "stdout",
          "text": [
            "\n",
            "Null values in each column:\n",
            "ID                  0\n",
            "Age                 0\n",
            "Salary              5\n",
            "Department          0\n",
            "Experience_Years    5\n",
            "Remote_Work         0\n",
            "dtype: int64\n"
          ]
        }
      ]
    },
    {
      "cell_type": "code",
      "source": [
        "# Handle missing values\n",
        "df['Salary'] = df['Salary'].fillna(df['Salary'].mean())\n",
        "df['Experience_Years'] = df['Experience_Years'].fillna(df['Experience_Years'].mean())\n",
        "\n",
        "# Check again\n",
        "print(\"\\nMissing values after imputation:\\n\", df.isnull().sum())\n"
      ],
      "metadata": {
        "colab": {
          "base_uri": "https://localhost:8080/"
        },
        "id": "_hDrpu4hbM9R",
        "outputId": "4fe783be-ef32-4495-a3ea-43efa78e56f2"
      },
      "execution_count": 12,
      "outputs": [
        {
          "output_type": "stream",
          "name": "stdout",
          "text": [
            "\n",
            "Missing values after imputation:\n",
            " ID                  0\n",
            "Age                 0\n",
            "Salary              0\n",
            "Department          0\n",
            "Experience_Years    0\n",
            "Remote_Work         0\n",
            "dtype: int64\n"
          ]
        }
      ]
    },
    {
      "cell_type": "code",
      "source": [
        "# 4. Data types\n",
        "print(\"\\nData types:\")\n",
        "print(df.dtypes)"
      ],
      "metadata": {
        "colab": {
          "base_uri": "https://localhost:8080/"
        },
        "id": "v74EZiTabO29",
        "outputId": "b611ed30-6702-45bc-c7ee-02e949b67a55"
      },
      "execution_count": 13,
      "outputs": [
        {
          "output_type": "stream",
          "name": "stdout",
          "text": [
            "\n",
            "Data types:\n",
            "ID                    int64\n",
            "Age                   int64\n",
            "Salary              float64\n",
            "Department           object\n",
            "Experience_Years    float64\n",
            "Remote_Work          object\n",
            "dtype: object\n"
          ]
        }
      ]
    },
    {
      "cell_type": "code",
      "source": [
        "\n",
        "# 5. Summary of values\n",
        "print(\"\\nDescriptive statistics:\")\n",
        "print(df.describe(include='all'))\n"
      ],
      "metadata": {
        "colab": {
          "base_uri": "https://localhost:8080/"
        },
        "id": "HlhZTxfDcS5v",
        "outputId": "70ecd7f6-8a03-46cd-8013-a0f483dcf1ef"
      },
      "execution_count": 14,
      "outputs": [
        {
          "output_type": "stream",
          "name": "stdout",
          "text": [
            "\n",
            "Descriptive statistics:\n",
            "                ID         Age        Salary Department  Experience_Years  \\\n",
            "count   100.000000  100.000000    100.000000        100        100.000000   \n",
            "unique         NaN         NaN           NaN          4               NaN   \n",
            "top            NaN         NaN           NaN  Marketing               NaN   \n",
            "freq           NaN         NaN           NaN         34               NaN   \n",
            "mean     50.500000   37.910000  66231.515789        NaN          7.252632   \n",
            "std      29.011492   12.219454  20174.659873        NaN          4.111989   \n",
            "min       1.000000   18.000000  30206.000000        NaN          1.000000   \n",
            "25%      25.750000   26.750000  51948.750000        NaN          3.750000   \n",
            "50%      50.500000   38.000000  66231.515789        NaN          7.126316   \n",
            "75%      75.250000   46.250000  82679.750000        NaN         10.000000   \n",
            "max     100.000000   59.000000  99163.000000        NaN         14.000000   \n",
            "\n",
            "       Remote_Work  \n",
            "count          100  \n",
            "unique           2  \n",
            "top             No  \n",
            "freq            53  \n",
            "mean           NaN  \n",
            "std            NaN  \n",
            "min            NaN  \n",
            "25%            NaN  \n",
            "50%            NaN  \n",
            "75%            NaN  \n",
            "max            NaN  \n"
          ]
        }
      ]
    },
    {
      "cell_type": "code",
      "source": [
        "numeric_cols = df.select_dtypes(include=np.number).columns\n",
        "for col in numeric_cols:\n",
        "    Q1 = df[col].quantile(0.25)\n",
        "    Q3 = df[col].quantile(0.75)\n",
        "    IQR = Q3 - Q1\n",
        "    lower_bound = Q1 - 1.5 * IQR\n",
        "    upper_bound = Q3 + 1.5 * IQR\n",
        "\n",
        "    # Detect outliers\n",
        "    outliers = df[(df[col] < lower_bound) | (df[col] > upper_bound)]\n",
        "    print(f\"Number of outliers: {outliers.shape[0]}\")"
      ],
      "metadata": {
        "colab": {
          "base_uri": "https://localhost:8080/"
        },
        "id": "WMYzEYHPcUPZ",
        "outputId": "febc3d3a-0cd4-4669-84e5-87c7d3992905"
      },
      "execution_count": 15,
      "outputs": [
        {
          "output_type": "stream",
          "name": "stdout",
          "text": [
            "Number of outliers: 0\n",
            "Number of outliers: 0\n",
            "Number of outliers: 0\n",
            "Number of outliers: 0\n"
          ]
        }
      ]
    },
    {
      "cell_type": "code",
      "source": [
        "# 6. Detect outliers using boxplots for numeric columns\n",
        "numeric_cols = df.select_dtypes(include=np.number).columns\n",
        "for col in numeric_cols:\n",
        "    plt.figure(figsize=(6, 4))\n",
        "    sns.boxplot(y=df[col])\n",
        "    plt.title(f'Outlier check for {col}')\n",
        "    plt.tight_layout()\n",
        "    plt.show()\n"
      ],
      "metadata": {
        "colab": {
          "base_uri": "https://localhost:8080/",
          "height": 1000
        },
        "id": "x-CODG3HcWQi",
        "outputId": "3f84f0fc-3598-4f1a-dfba-aa4a47b3dbb0"
      },
      "execution_count": 16,
      "outputs": [
        {
          "output_type": "display_data",
          "data": {
            "text/plain": [
              "<Figure size 600x400 with 1 Axes>"
            ],
            "image/png": "[encoded data removed]"
          },
          "metadata": {}
        },
        {
          "output_type": "display_data",
          "data": {
            "text/plain": [
              "<Figure size 600x400 with 1 Axes>"
            ],
            "image/png": "[encoded data removed]"
          },
          "metadata": {}
        },
        {
          "output_type": "display_data",
          "data": {
            "text/plain": [
              "<Figure size 600x400 with 1 Axes>"
            ],
            "image/png": "[encoded data removed]"
          },
          "metadata": {}
        },
        {
          "output_type": "display_data",
          "data": {
            "text/plain": [
              "<Figure size 600x400 with 1 Axes>"
            ],
            "image/png": "[encoded data removed]"
          },
          "metadata": {}
        }
      ]
    },
    {
      "cell_type": "code",
      "source": [
        "# 7. Normalize (MinMax Scaling) all numeric columns\n",
        "scaler = MinMaxScaler()\n",
        "df[numeric_cols] = scaler.fit_transform(df[numeric_cols])\n",
        "print(\"\\nAfter MinMax Scaling:\")\n",
        "print(df[numeric_cols].head())\n"
      ],
      "metadata": {
        "colab": {
          "base_uri": "https://localhost:8080/"
        },
        "id": "aaxt5E2KcXtL",
        "outputId": "6794daba-a9c8-43d7-e222-7da4acfa3fb8"
      },
      "execution_count": 17,
      "outputs": [
        {
          "output_type": "stream",
          "name": "stdout",
          "text": [
            "\n",
            "After MinMax Scaling:\n",
            "         ID       Age    Salary  Experience_Years\n",
            "0  0.000000  0.926829  0.118712          0.000000\n",
            "1  0.010101  0.682927  0.439825          0.307692\n",
            "2  0.020202  0.341463  0.754818          0.846154\n",
            "3  0.030303  0.170732  0.507795          0.923077\n",
            "4  0.040404  0.487805  0.915484          0.153846\n"
          ]
        }
      ]
    },
    {
      "cell_type": "code",
      "source": [
        "# 5.1 Check data types\n",
        "print(\"Original data types:\\n\")\n",
        "print(df.dtypes)\n",
        "\n",
        "# 5.2 Convert data types if needed\n",
        "# For example: convert 'object' type to 'category' or 'datetime' where appropriate\n",
        "for col in df.columns:\n",
        "    if df[col].dtype == 'object':\n",
        "        try:\n",
        "            df[col] = pd.to_datetime(df[col])\n",
        "            print(f\"Converted {col} to datetime.\")\n",
        "        except (ValueError, TypeError):\n",
        "            df[col] = df[col].astype('category')\n",
        "            print(f\"Converted {col} to category.\")\n",
        "\n",
        "# Recheck types\n",
        "print(\"\\nUpdated data types:\\n\")\n",
        "print(df.dtypes)\n",
        "\n",
        "# 5.3 Normalize numeric columns\n",
        "from sklearn.preprocessing import MinMaxScaler\n",
        "\n",
        "numeric_cols = df.select_dtypes(include=['int64', 'float64']).columns\n",
        "scaler = MinMaxScaler()\n",
        "df[numeric_cols] = scaler.fit_transform(df[numeric_cols])\n",
        "\n",
        "print(\"\\nData after normalization (MinMax Scaling):\")\n",
        "print(df[numeric_cols].head())\n"
      ],
      "metadata": {
        "colab": {
          "base_uri": "https://localhost:8080/"
        },
        "id": "vcjxCCIjcaLk",
        "outputId": "4a961cf0-5ef3-43ff-a0a2-a8cff3c39064"
      },
      "execution_count": 18,
      "outputs": [
        {
          "output_type": "stream",
          "name": "stdout",
          "text": [
            "Original data types:\n",
            "\n",
            "ID                  float64\n",
            "Age                 float64\n",
            "Salary              float64\n",
            "Department           object\n",
            "Experience_Years    float64\n",
            "Remote_Work          object\n",
            "dtype: object\n",
            "Converted Department to category.\n",
            "Converted Remote_Work to category.\n",
            "\n",
            "Updated data types:\n",
            "\n",
            "ID                   float64\n",
            "Age                  float64\n",
            "Salary               float64\n",
            "Department          category\n",
            "Experience_Years     float64\n",
            "Remote_Work         category\n",
            "dtype: object\n",
            "\n",
            "Data after normalization (MinMax Scaling):\n",
            "         ID       Age    Salary  Experience_Years\n",
            "0  0.000000  0.926829  0.118712          0.000000\n",
            "1  0.010101  0.682927  0.439825          0.307692\n",
            "2  0.020202  0.341463  0.754818          0.846154\n",
            "3  0.030303  0.170732  0.507795          0.923077\n",
            "4  0.040404  0.487805  0.915484          0.153846\n"
          ]
        },
        {
          "output_type": "stream",
          "name": "stderr",
          "text": [
            "<ipython-input-18-67ccaddab94f>:10: UserWarning: Could not infer format, so each element will be parsed individually, falling back to `dateutil`. To ensure parsing is consistent and as-expected, please specify a format.\n",
            "  df[col] = pd.to_datetime(df[col])\n",
            "<ipython-input-18-67ccaddab94f>:10: UserWarning: Could not infer format, so each element will be parsed individually, falling back to `dateutil`. To ensure parsing is consistent and as-expected, please specify a format.\n",
            "  df[col] = pd.to_datetime(df[col])\n"
          ]
        }
      ]
    },
    {
      "cell_type": "code",
      "source": [
        "# 6.1 Encode categorical variables\n",
        "from sklearn.preprocessing import LabelEncoder\n",
        "\n",
        "cat_cols = df.select_dtypes(include='category').columns\n",
        "\n",
        "label_encoder = LabelEncoder()\n",
        "\n",
        "for col in cat_cols:\n",
        "    df[col] = label_encoder.fit_transform(df[col])\n",
        "    print(f\"Encoded {col} as numeric.\")\n",
        "\n",
        "# View changes\n",
        "print(\"\\nData after encoding categorical variables:\")\n",
        "print(df.head())\n"
      ],
      "metadata": {
        "colab": {
          "base_uri": "https://localhost:8080/"
        },
        "id": "O5McZZS4cdYY",
        "outputId": "947dd516-44af-4f34-bf4a-f50a9465fca3"
      },
      "execution_count": 19,
      "outputs": [
        {
          "output_type": "stream",
          "name": "stdout",
          "text": [
            "Encoded Department as numeric.\n",
            "Encoded Remote_Work as numeric.\n",
            "\n",
            "Data after encoding categorical variables:\n",
            "         ID       Age    Salary  Department  Experience_Years  Remote_Work\n",
            "0  0.000000  0.926829  0.118712           2          0.000000            1\n",
            "1  0.010101  0.682927  0.439825           2          0.307692            0\n",
            "2  0.020202  0.341463  0.754818           0          0.846154            1\n",
            "3  0.030303  0.170732  0.507795           0          0.923077            1\n",
            "4  0.040404  0.487805  0.915484           3          0.153846            0\n"
          ]
        }
      ]
    },
    {
      "cell_type": "code",
      "source": [
        "from sklearn.preprocessing import OneHotEncoder\n",
        "\n",
        "encoder = OneHotEncoder(sparse_output=False)\n",
        "encoded_values = encoder.fit_transform(df[['Department']])\n",
        "encoded_df = pd.DataFrame(encoded_values, columns=encoder.get_feature_names_out(['Department']))\n",
        "\n",
        "df_encoded = pd.concat([df, encoded_df], axis=1)\n",
        "\n",
        "print(df_encoded)\n"
      ],
      "metadata": {
        "colab": {
          "base_uri": "https://localhost:8080/"
        },
        "id": "HomPuX0icf6g",
        "outputId": "ec8704cf-4c1d-4367-9f87-905731a896af"
      },
      "execution_count": 20,
      "outputs": [
        {
          "output_type": "stream",
          "name": "stdout",
          "text": [
            "          ID       Age    Salary  Department  Experience_Years  Remote_Work  \\\n",
            "0   0.000000  0.926829  0.118712           2          0.000000            1   \n",
            "1   0.010101  0.682927  0.439825           2          0.307692            0   \n",
            "2   0.020202  0.341463  0.754818           0          0.846154            1   \n",
            "3   0.030303  0.170732  0.507795           0          0.923077            1   \n",
            "4   0.040404  0.487805  0.915484           3          0.153846            0   \n",
            "..       ...       ...       ...         ...               ...          ...   \n",
            "95  0.959596  1.000000  0.023145           1          0.000000            1   \n",
            "96  0.969697  0.926829  0.115275           2          0.230769            0   \n",
            "97  0.979798  0.975610  0.568151           1          0.692308            1   \n",
            "98  0.989899  0.658537  0.682280           3          0.384615            0   \n",
            "99  1.000000  0.146341  0.314863           0          0.384615            0   \n",
            "\n",
            "    Department_0  Department_1  Department_2  Department_3  \n",
            "0            0.0           0.0           1.0           0.0  \n",
            "1            0.0           0.0           1.0           0.0  \n",
            "2            1.0           0.0           0.0           0.0  \n",
            "3            1.0           0.0           0.0           0.0  \n",
            "4            0.0           0.0           0.0           1.0  \n",
            "..           ...           ...           ...           ...  \n",
            "95           0.0           1.0           0.0           0.0  \n",
            "96           0.0           0.0           1.0           0.0  \n",
            "97           0.0           1.0           0.0           0.0  \n",
            "98           0.0           0.0           0.0           1.0  \n",
            "99           1.0           0.0           0.0           0.0  \n",
            "\n",
            "[100 rows x 10 columns]\n"
          ]
        }
      ]
    },
    {
      "cell_type": "code",
      "source": [],
      "metadata": {
        "id": "zoKawo30ciDB"
      },
      "execution_count": null,
      "outputs": []
    }
  ]
}