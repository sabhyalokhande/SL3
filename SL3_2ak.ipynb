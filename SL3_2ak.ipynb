{
 "cells": [
  {
   "cell_type": "code",
   "execution_count": 12,
   "id": "36299298-618f-4b50-ac88-e6418a431b0d",
   "metadata": {},
   "outputs": [],
   "source": [
    "\n",
    "import pandas as pd\n",
    "import numpy as np\n",
    "import random\n",
    "from sklearn.preprocessing import MinMaxScaler\n",
    "\n",
    "np.random.seed(42)\n",
    "random.seed(42)"
   ]
  },
  {
   "cell_type": "code",
   "execution_count": 13,
   "id": "2bd20a51-7150-499f-9fa9-429da7760f5a",
   "metadata": {},
   "outputs": [],
   "source": [
    "# Create  dataset\n",
    "student_ids = ['S001', 'S002', 'S003', 'S004', 'S005', 'S006', 'S007', 'S008', 'S009', 'S010']\n",
    "names = ['Student_1', 'Student_2', 'Student_3', 'Student_4', 'Student_5', 'Student_6', 'Student_7', 'Student_8', 'Student_9', 'Student_10']\n",
    "ages = [18, 19, 20, 21, 18, 17, 19, 20, 22, 23]\n",
    "genders = ['M', 'F', 'M', 'F', 'M', 'F', 'M', 'F', 'M', 'F']\n",
    "math_scores = [85, 90, 78, 88, np.nan, 95, 70, 80, 75, 68]\n",
    "science_scores = [72, 85, 80, 95, 60, 78, np.nan, 88, 91, 85]\n",
    "english_scores = [80, 72, 75, 85, 78, 92, 70, 88, 89, 74]\n",
    "attendance_rates = [90.0, 85.0, 95.0, np.nan, 92.0, 91.0, 89.0, 88.0, 94.0, 90.0]\n",
    "study_hours = [15, 10, 12, 8, 7, 5, 20, 16, 18, 25]\n",
    "\n",
    "# Create DataFrame\n",
    "df = pd.DataFrame({\n",
    "    'Student_ID': student_ids,\n",
    "    'Name': names,\n",
    "    'Age': ages,\n",
    "    'Gender': genders,\n",
    "    'Math_Score': math_scores,\n",
    "    'Science_Score': science_scores,\n",
    "    'English_Score': english_scores,\n",
    "    'Attendance_Rate': attendance_rates,\n",
    "    'Study_Hours': study_hours\n",
    "})"
   ]
  },
  {
   "cell_type": "code",
   "execution_count": 14,
   "id": "bd602cc7-bb89-4e90-8ebc-82d693fed512",
   "metadata": {},
   "outputs": [
    {
     "name": "stdout",
     "output_type": "stream",
     "text": [
      "\n",
      "Missing Values:\n",
      " Student_ID         0\n",
      "Name               0\n",
      "Age                0\n",
      "Gender             0\n",
      "Math_Score         1\n",
      "Science_Score      1\n",
      "English_Score      0\n",
      "Attendance_Rate    1\n",
      "Study_Hours        0\n",
      "dtype: int64\n"
     ]
    }
   ],
   "source": [
    "#  Check for missing values\n",
    "missing_values = df.isnull().sum()\n",
    "print(\"\\nMissing Values:\\n\", missing_values)\n",
    "\n",
    "# Handle missing values \n",
    "df['Math_Score'] = df['Math_Score'].fillna(df['Math_Score'].mean())\n",
    "df['Science_Score'] = df['Science_Score'].fillna(df['Science_Score'].mean())\n",
    "df['Attendance_Rate'] = df['Attendance_Rate'].fillna(df['Attendance_Rate'].mean())\n",
    "\n"
   ]
  },
  {
   "cell_type": "code",
   "execution_count": 15,
   "id": "56e54fae-fe68-4178-a293-749df64faaeb",
   "metadata": {},
   "outputs": [],
   "source": [
    "def detect_and_cap_outliers(data, column):\n",
    "    Q1 = data[column].quantile(0.25)\n",
    "    Q3 = data[column].quantile(0.75)\n",
    "    IQR = Q3 - Q1\n",
    "    lower_bound = Q1 - 1.5 * IQR\n",
    "    upper_bound = Q3 + 1.5 * IQR\n",
    "    data[column] = np.where(data[column] > upper_bound, upper_bound, np.where(data[column] < lower_bound, lower_bound, data[column]))\n",
    "    return data\n",
    "\n",
    "numeric_columns = ['Math_Score', 'Science_Score', 'English_Score', 'Study_Hours']\n",
    "for col in numeric_columns:\n",
    "     df = detect_and_cap_outliers(df, col)"
   ]
  },
  {
   "cell_type": "code",
   "execution_count": 16,
   "id": "43cdb2da-86e3-4890-b4bf-69183f4ae8ae",
   "metadata": {},
   "outputs": [
    {
     "data": {
      "text/html": [
       "<div>\n",
       "<style scoped>\n",
       "    .dataframe tbody tr th:only-of-type {\n",
       "        vertical-align: middle;\n",
       "    }\n",
       "\n",
       "    .dataframe tbody tr th {\n",
       "        vertical-align: top;\n",
       "    }\n",
       "\n",
       "    .dataframe thead th {\n",
       "        text-align: right;\n",
       "    }\n",
       "</style>\n",
       "<table border=\"1\" class=\"dataframe\">\n",
       "  <thead>\n",
       "    <tr style=\"text-align: right;\">\n",
       "      <th></th>\n",
       "      <th>Student_ID</th>\n",
       "      <th>Name</th>\n",
       "      <th>Age</th>\n",
       "      <th>Gender</th>\n",
       "      <th>Math_Score</th>\n",
       "      <th>Science_Score</th>\n",
       "      <th>English_Score</th>\n",
       "      <th>Attendance_Rate</th>\n",
       "      <th>Study_Hours</th>\n",
       "    </tr>\n",
       "  </thead>\n",
       "  <tbody>\n",
       "    <tr>\n",
       "      <th>0</th>\n",
       "      <td>S001</td>\n",
       "      <td>Student_1</td>\n",
       "      <td>18</td>\n",
       "      <td>M</td>\n",
       "      <td>85.0</td>\n",
       "      <td>72.000</td>\n",
       "      <td>80.0</td>\n",
       "      <td>90.000000</td>\n",
       "      <td>15.0</td>\n",
       "    </tr>\n",
       "    <tr>\n",
       "      <th>1</th>\n",
       "      <td>S002</td>\n",
       "      <td>Student_2</td>\n",
       "      <td>19</td>\n",
       "      <td>F</td>\n",
       "      <td>90.0</td>\n",
       "      <td>85.000</td>\n",
       "      <td>72.0</td>\n",
       "      <td>85.000000</td>\n",
       "      <td>10.0</td>\n",
       "    </tr>\n",
       "    <tr>\n",
       "      <th>2</th>\n",
       "      <td>S003</td>\n",
       "      <td>Student_3</td>\n",
       "      <td>20</td>\n",
       "      <td>M</td>\n",
       "      <td>78.0</td>\n",
       "      <td>80.000</td>\n",
       "      <td>75.0</td>\n",
       "      <td>95.000000</td>\n",
       "      <td>12.0</td>\n",
       "    </tr>\n",
       "    <tr>\n",
       "      <th>3</th>\n",
       "      <td>S004</td>\n",
       "      <td>Student_4</td>\n",
       "      <td>21</td>\n",
       "      <td>F</td>\n",
       "      <td>88.0</td>\n",
       "      <td>95.000</td>\n",
       "      <td>85.0</td>\n",
       "      <td>90.444444</td>\n",
       "      <td>8.0</td>\n",
       "    </tr>\n",
       "    <tr>\n",
       "      <th>4</th>\n",
       "      <td>S005</td>\n",
       "      <td>Student_5</td>\n",
       "      <td>18</td>\n",
       "      <td>M</td>\n",
       "      <td>81.0</td>\n",
       "      <td>65.375</td>\n",
       "      <td>78.0</td>\n",
       "      <td>92.000000</td>\n",
       "      <td>7.0</td>\n",
       "    </tr>\n",
       "  </tbody>\n",
       "</table>\n",
       "</div>"
      ],
      "text/plain": [
       "  Student_ID       Name  Age Gender  Math_Score  Science_Score  English_Score  \\\n",
       "0       S001  Student_1   18      M        85.0         72.000           80.0   \n",
       "1       S002  Student_2   19      F        90.0         85.000           72.0   \n",
       "2       S003  Student_3   20      M        78.0         80.000           75.0   \n",
       "3       S004  Student_4   21      F        88.0         95.000           85.0   \n",
       "4       S005  Student_5   18      M        81.0         65.375           78.0   \n",
       "\n",
       "   Attendance_Rate  Study_Hours  \n",
       "0        90.000000         15.0  \n",
       "1        85.000000         10.0  \n",
       "2        95.000000         12.0  \n",
       "3        90.444444          8.0  \n",
       "4        92.000000          7.0  "
      ]
     },
     "execution_count": 16,
     "metadata": {},
     "output_type": "execute_result"
    }
   ],
   "source": [
    "df.head()\n"
   ]
  },
  {
   "cell_type": "code",
   "execution_count": 17,
   "id": "9975a535-5a2b-4c28-b08b-f8f9e4e7bb3f",
   "metadata": {},
   "outputs": [
    {
     "name": "stdout",
     "output_type": "stream",
     "text": [
      "Final DataFrame after handling missing values, outliers, and transformation:\n",
      "   Student_ID        Name  Age Gender  Math_Score  Science_Score  \\\n",
      "0       S001   Student_1   18      M        85.0      72.000000   \n",
      "1       S002   Student_2   19      F        90.0      85.000000   \n",
      "2       S003   Student_3   20      M        78.0      80.000000   \n",
      "3       S004   Student_4   21      F        88.0      95.000000   \n",
      "4       S005   Student_5   18      M        81.0      65.375000   \n",
      "5       S006   Student_6   17      F        95.0      78.000000   \n",
      "6       S007   Student_7   19      M        70.0      81.555556   \n",
      "7       S008   Student_8   20      F        80.0      88.000000   \n",
      "8       S009   Student_9   22      M        75.0      91.000000   \n",
      "9       S010  Student_10   23      F        68.0      85.000000   \n",
      "\n",
      "   English_Score  Attendance_Rate  Study_Hours  Study_Hours_Log  \n",
      "0           80.0        90.000000         15.0         2.772589  \n",
      "1           72.0        85.000000         10.0         2.397895  \n",
      "2           75.0        95.000000         12.0         2.564949  \n",
      "3           85.0        90.444444          8.0         2.197225  \n",
      "4           78.0        92.000000          7.0         2.079442  \n",
      "5           92.0        91.000000          5.0         1.791759  \n",
      "6           70.0        89.000000         20.0         3.044522  \n",
      "7           88.0        88.000000         16.0         2.833213  \n",
      "8           89.0        94.000000         18.0         2.944439  \n",
      "9           74.0        90.000000         25.0         3.258097  \n"
     ]
    }
   ],
   "source": [
    "df['Study_Hours_Log'] = np.log(df['Study_Hours'] + 1)\n",
    "print(\"Final DataFrame after handling missing values, outliers, and transformation:\\n\", df)"
   ]
  },
  {
   "cell_type": "code",
   "execution_count": 18,
   "id": "93b33535-dff0-446a-9f9c-656776d2b57f",
   "metadata": {},
   "outputs": [
    {
     "data": {
      "image/png": "[encoded data removed]",
      "text/plain": [
       "<Figure size 1200x500 with 2 Axes>"
      ]
     },
     "metadata": {},
     "output_type": "display_data"
    }
   ],
   "source": [
    "import matplotlib.pyplot as plt\n",
    "import seaborn as sns\n",
    "\n",
    "plt.figure(figsize=(12, 5))\n",
    "\n",
    "# Before transformation\n",
    "plt.subplot(1, 2, 1)\n",
    "sns.histplot(df['Study_Hours'], kde=True)\n",
    "plt.title('Original Study_Hours Distribution')\n",
    "\n",
    "# After transformation\n",
    "plt.subplot(1, 2, 2)\n",
    "sns.histplot(df['Study_Hours_Log'], kde=True)\n",
    "plt.title('Log-Transformed Study_Hours Distribution')\n",
    "plt.show()\n"
   ]
  },
  {
   "cell_type": "code",
   "execution_count": 21,
   "id": "55f8e0e6-6007-4e3c-92fa-b1e058cabddd",
   "metadata": {},
   "outputs": [
    {
     "name": "stdout",
     "output_type": "stream",
     "text": [
      "  Student_ID       Name  Age Gender  Math_Score  Science_Score  English_Score  \\\n",
      "0       S001  Student_1   18      M        85.0         72.000           80.0   \n",
      "1       S002  Student_2   19      F        90.0         85.000           72.0   \n",
      "2       S003  Student_3   20      M        78.0         80.000           75.0   \n",
      "3       S004  Student_4   21      F        88.0         95.000           85.0   \n",
      "4       S005  Student_5   18      M        81.0         65.375           78.0   \n",
      "\n",
      "   Attendance_Rate  Study_Hours  Study_Hours_Log  Study_Hours_MinMax  \n",
      "0        90.000000         15.0         2.772589                0.50  \n",
      "1        85.000000         10.0         2.397895                0.25  \n",
      "2        95.000000         12.0         2.564949                0.35  \n",
      "3        90.444444          8.0         2.197225                0.15  \n",
      "4        92.000000          7.0         2.079442                0.10  \n"
     ]
    }
   ],
   "source": [
    "scaler = MinMaxScaler()\n",
    "df['Study_Hours_MinMax'] = scaler.fit_transform(df[['Study_Hours']])\n",
    "print(df.head())"
   ]
  },
  {
   "cell_type": "code",
   "execution_count": null,
   "id": "dec79d20-020e-4fb9-a129-056887fea50d",
   "metadata": {},
   "outputs": [],
   "source": []
  }
 ],
 "metadata": {
  "kernelspec": {
   "display_name": "Python 3 (ipykernel)",
   "language": "python",
   "name": "python3"
  },
  "language_info": {
   "codemirror_mode": {
    "name": "ipython",
    "version": 3
   },
   "file_extension": ".py",
   "mimetype": "text/x-python",
   "name": "python",
   "nbconvert_exporter": "python",
   "pygments_lexer": "ipython3",
   "version": "3.12.3"
  }
 },
 "nbformat": 4,
 "nbformat_minor": 5
}
